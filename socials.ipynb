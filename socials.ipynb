{
 "cells": [
  {
   "cell_type": "code",
   "execution_count": 1,
   "metadata": {},
   "outputs": [],
   "source": [
    "import pandas as pd"
   ]
  },
  {
   "cell_type": "code",
   "execution_count": 2,
   "metadata": {},
   "outputs": [
    {
     "data": {
      "text/html": [
       "<div>\n",
       "<style scoped>\n",
       "    .dataframe tbody tr th:only-of-type {\n",
       "        vertical-align: middle;\n",
       "    }\n",
       "\n",
       "    .dataframe tbody tr th {\n",
       "        vertical-align: top;\n",
       "    }\n",
       "\n",
       "    .dataframe thead th {\n",
       "        text-align: right;\n",
       "    }\n",
       "</style>\n",
       "<table border=\"1\" class=\"dataframe\">\n",
       "  <thead>\n",
       "    <tr style=\"text-align: right;\">\n",
       "      <th></th>\n",
       "      <th>UserID</th>\n",
       "      <th>Age</th>\n",
       "      <th>Gender</th>\n",
       "      <th>Location</th>\n",
       "      <th>Income</th>\n",
       "      <th>Debt</th>\n",
       "      <th>Owns Property</th>\n",
       "      <th>Profession</th>\n",
       "      <th>Demographics</th>\n",
       "      <th>Platform</th>\n",
       "      <th>...</th>\n",
       "      <th>ProductivityLoss</th>\n",
       "      <th>Satisfaction</th>\n",
       "      <th>Watch Reason</th>\n",
       "      <th>DeviceType</th>\n",
       "      <th>OS</th>\n",
       "      <th>Watch Time</th>\n",
       "      <th>Self Control</th>\n",
       "      <th>Addiction Level</th>\n",
       "      <th>CurrentActivity</th>\n",
       "      <th>ConnectionType</th>\n",
       "    </tr>\n",
       "  </thead>\n",
       "  <tbody>\n",
       "    <tr>\n",
       "      <th>0</th>\n",
       "      <td>1</td>\n",
       "      <td>56</td>\n",
       "      <td>Male</td>\n",
       "      <td>Pakistan</td>\n",
       "      <td>82812</td>\n",
       "      <td>True</td>\n",
       "      <td>True</td>\n",
       "      <td>Engineer</td>\n",
       "      <td>Rural</td>\n",
       "      <td>Instagram</td>\n",
       "      <td>...</td>\n",
       "      <td>3</td>\n",
       "      <td>7</td>\n",
       "      <td>Procrastination</td>\n",
       "      <td>Smartphone</td>\n",
       "      <td>Android</td>\n",
       "      <td>9:00 PM</td>\n",
       "      <td>5</td>\n",
       "      <td>5</td>\n",
       "      <td>Commuting</td>\n",
       "      <td>Mobile Data</td>\n",
       "    </tr>\n",
       "    <tr>\n",
       "      <th>1</th>\n",
       "      <td>2</td>\n",
       "      <td>46</td>\n",
       "      <td>Female</td>\n",
       "      <td>Mexico</td>\n",
       "      <td>27999</td>\n",
       "      <td>False</td>\n",
       "      <td>True</td>\n",
       "      <td>Artist</td>\n",
       "      <td>Urban</td>\n",
       "      <td>Instagram</td>\n",
       "      <td>...</td>\n",
       "      <td>5</td>\n",
       "      <td>5</td>\n",
       "      <td>Habit</td>\n",
       "      <td>Computer</td>\n",
       "      <td>Android</td>\n",
       "      <td>5:00 PM</td>\n",
       "      <td>7</td>\n",
       "      <td>3</td>\n",
       "      <td>At school</td>\n",
       "      <td>Wi-Fi</td>\n",
       "    </tr>\n",
       "    <tr>\n",
       "      <th>2</th>\n",
       "      <td>3</td>\n",
       "      <td>32</td>\n",
       "      <td>Female</td>\n",
       "      <td>United States</td>\n",
       "      <td>42436</td>\n",
       "      <td>False</td>\n",
       "      <td>True</td>\n",
       "      <td>Engineer</td>\n",
       "      <td>Rural</td>\n",
       "      <td>Facebook</td>\n",
       "      <td>...</td>\n",
       "      <td>6</td>\n",
       "      <td>4</td>\n",
       "      <td>Entertainment</td>\n",
       "      <td>Tablet</td>\n",
       "      <td>Android</td>\n",
       "      <td>2:00 PM</td>\n",
       "      <td>8</td>\n",
       "      <td>2</td>\n",
       "      <td>At home</td>\n",
       "      <td>Mobile Data</td>\n",
       "    </tr>\n",
       "    <tr>\n",
       "      <th>3</th>\n",
       "      <td>4</td>\n",
       "      <td>60</td>\n",
       "      <td>Male</td>\n",
       "      <td>Barzil</td>\n",
       "      <td>62963</td>\n",
       "      <td>True</td>\n",
       "      <td>False</td>\n",
       "      <td>Waiting staff</td>\n",
       "      <td>Rural</td>\n",
       "      <td>YouTube</td>\n",
       "      <td>...</td>\n",
       "      <td>3</td>\n",
       "      <td>7</td>\n",
       "      <td>Habit</td>\n",
       "      <td>Smartphone</td>\n",
       "      <td>Android</td>\n",
       "      <td>9:00 PM</td>\n",
       "      <td>5</td>\n",
       "      <td>5</td>\n",
       "      <td>Commuting</td>\n",
       "      <td>Mobile Data</td>\n",
       "    </tr>\n",
       "    <tr>\n",
       "      <th>4</th>\n",
       "      <td>5</td>\n",
       "      <td>25</td>\n",
       "      <td>Male</td>\n",
       "      <td>Pakistan</td>\n",
       "      <td>22096</td>\n",
       "      <td>False</td>\n",
       "      <td>True</td>\n",
       "      <td>Manager</td>\n",
       "      <td>Urban</td>\n",
       "      <td>TikTok</td>\n",
       "      <td>...</td>\n",
       "      <td>8</td>\n",
       "      <td>2</td>\n",
       "      <td>Boredom</td>\n",
       "      <td>Smartphone</td>\n",
       "      <td>iOS</td>\n",
       "      <td>8:00 AM</td>\n",
       "      <td>10</td>\n",
       "      <td>0</td>\n",
       "      <td>At home</td>\n",
       "      <td>Mobile Data</td>\n",
       "    </tr>\n",
       "  </tbody>\n",
       "</table>\n",
       "<p>5 rows × 31 columns</p>\n",
       "</div>"
      ],
      "text/plain": [
       "   UserID  Age  Gender       Location  Income   Debt  Owns Property  \\\n",
       "0       1   56    Male       Pakistan   82812   True           True   \n",
       "1       2   46  Female         Mexico   27999  False           True   \n",
       "2       3   32  Female  United States   42436  False           True   \n",
       "3       4   60    Male         Barzil   62963   True          False   \n",
       "4       5   25    Male       Pakistan   22096  False           True   \n",
       "\n",
       "      Profession Demographics   Platform  ...  ProductivityLoss  Satisfaction  \\\n",
       "0       Engineer        Rural  Instagram  ...                 3             7   \n",
       "1         Artist        Urban  Instagram  ...                 5             5   \n",
       "2       Engineer        Rural   Facebook  ...                 6             4   \n",
       "3  Waiting staff        Rural    YouTube  ...                 3             7   \n",
       "4        Manager        Urban     TikTok  ...                 8             2   \n",
       "\n",
       "      Watch Reason  DeviceType       OS  Watch Time  Self Control  \\\n",
       "0  Procrastination  Smartphone  Android     9:00 PM             5   \n",
       "1            Habit    Computer  Android     5:00 PM             7   \n",
       "2    Entertainment      Tablet  Android     2:00 PM             8   \n",
       "3            Habit  Smartphone  Android     9:00 PM             5   \n",
       "4          Boredom  Smartphone      iOS     8:00 AM            10   \n",
       "\n",
       "   Addiction Level  CurrentActivity  ConnectionType  \n",
       "0                5        Commuting     Mobile Data  \n",
       "1                3        At school           Wi-Fi  \n",
       "2                2          At home     Mobile Data  \n",
       "3                5        Commuting     Mobile Data  \n",
       "4                0          At home     Mobile Data  \n",
       "\n",
       "[5 rows x 31 columns]"
      ]
     },
     "execution_count": 2,
     "metadata": {},
     "output_type": "execute_result"
    }
   ],
   "source": [
    "data = pd.read_csv(\"assets/socialmedia_waisters.csv\")\n",
    "data.head()"
   ]
  },
  {
   "cell_type": "code",
   "execution_count": 3,
   "metadata": {},
   "outputs": [
    {
     "name": "stdout",
     "output_type": "stream",
     "text": [
      "<class 'pandas.core.frame.DataFrame'>\n",
      "RangeIndex: 1000 entries, 0 to 999\n",
      "Data columns (total 31 columns):\n",
      " #   Column                    Non-Null Count  Dtype \n",
      "---  ------                    --------------  ----- \n",
      " 0   UserID                    1000 non-null   int64 \n",
      " 1   Age                       1000 non-null   int64 \n",
      " 2   Gender                    1000 non-null   object\n",
      " 3   Location                  1000 non-null   object\n",
      " 4   Income                    1000 non-null   int64 \n",
      " 5   Debt                      1000 non-null   bool  \n",
      " 6   Owns Property             1000 non-null   bool  \n",
      " 7   Profession                1000 non-null   object\n",
      " 8   Demographics              1000 non-null   object\n",
      " 9   Platform                  1000 non-null   object\n",
      " 10  Total Time Spent          1000 non-null   int64 \n",
      " 11  Number of Sessions        1000 non-null   int64 \n",
      " 12  Video ID                  1000 non-null   int64 \n",
      " 13  Video Category            1000 non-null   object\n",
      " 14  Video Length              1000 non-null   int64 \n",
      " 15  Engagement                1000 non-null   int64 \n",
      " 16  Importance Score          1000 non-null   int64 \n",
      " 17  Time Spent On Video       1000 non-null   int64 \n",
      " 18  Number of Videos Watched  1000 non-null   int64 \n",
      " 19  Scroll Rate               1000 non-null   int64 \n",
      " 20  Frequency                 1000 non-null   object\n",
      " 21  ProductivityLoss          1000 non-null   int64 \n",
      " 22  Satisfaction              1000 non-null   int64 \n",
      " 23  Watch Reason              1000 non-null   object\n",
      " 24  DeviceType                1000 non-null   object\n",
      " 25  OS                        1000 non-null   object\n",
      " 26  Watch Time                1000 non-null   object\n",
      " 27  Self Control              1000 non-null   int64 \n",
      " 28  Addiction Level           1000 non-null   int64 \n",
      " 29  CurrentActivity           1000 non-null   object\n",
      " 30  ConnectionType            1000 non-null   object\n",
      "dtypes: bool(2), int64(16), object(13)\n",
      "memory usage: 228.6+ KB\n"
     ]
    }
   ],
   "source": [
    "data.info()"
   ]
  },
  {
   "cell_type": "code",
   "execution_count": 4,
   "metadata": {},
   "outputs": [
    {
     "data": {
      "text/plain": [
       "UserID                      0\n",
       "Age                         0\n",
       "Gender                      0\n",
       "Location                    0\n",
       "Income                      0\n",
       "Debt                        0\n",
       "Owns Property               0\n",
       "Profession                  0\n",
       "Demographics                0\n",
       "Platform                    0\n",
       "Total Time Spent            0\n",
       "Number of Sessions          0\n",
       "Video ID                    0\n",
       "Video Category              0\n",
       "Video Length                0\n",
       "Engagement                  0\n",
       "Importance Score            0\n",
       "Time Spent On Video         0\n",
       "Number of Videos Watched    0\n",
       "Scroll Rate                 0\n",
       "Frequency                   0\n",
       "ProductivityLoss            0\n",
       "Satisfaction                0\n",
       "Watch Reason                0\n",
       "DeviceType                  0\n",
       "OS                          0\n",
       "Watch Time                  0\n",
       "Self Control                0\n",
       "Addiction Level             0\n",
       "CurrentActivity             0\n",
       "ConnectionType              0\n",
       "dtype: int64"
      ]
     },
     "execution_count": 4,
     "metadata": {},
     "output_type": "execute_result"
    }
   ],
   "source": [
    "data.isnull().sum()"
   ]
  },
  {
   "cell_type": "code",
   "execution_count": 5,
   "metadata": {},
   "outputs": [
    {
     "data": {
      "text/plain": [
       "UserID                       int64\n",
       "Age                          int64\n",
       "Gender                      object\n",
       "Location                    object\n",
       "Income                       int64\n",
       "Debt                          bool\n",
       "Owns Property                 bool\n",
       "Profession                  object\n",
       "Demographics                object\n",
       "Platform                    object\n",
       "Total Time Spent             int64\n",
       "Number of Sessions           int64\n",
       "Video ID                     int64\n",
       "Video Category              object\n",
       "Video Length                 int64\n",
       "Engagement                   int64\n",
       "Importance Score             int64\n",
       "Time Spent On Video          int64\n",
       "Number of Videos Watched     int64\n",
       "Scroll Rate                  int64\n",
       "Frequency                   object\n",
       "ProductivityLoss             int64\n",
       "Satisfaction                 int64\n",
       "Watch Reason                object\n",
       "DeviceType                  object\n",
       "OS                          object\n",
       "Watch Time                  object\n",
       "Self Control                 int64\n",
       "Addiction Level              int64\n",
       "CurrentActivity             object\n",
       "ConnectionType              object\n",
       "dtype: object"
      ]
     },
     "execution_count": 5,
     "metadata": {},
     "output_type": "execute_result"
    }
   ],
   "source": [
    "data.dtypes"
   ]
  },
  {
   "cell_type": "code",
   "execution_count": 8,
   "metadata": {},
   "outputs": [],
   "source": [
    "Instagram = data[data['Platform'] == 'Instagram']\n",
    "TikTok = data[data['Platform'] == 'TikTok']\n",
    "Facebook = data[data['Platform'] == 'Facebook']\n",
    "YouTube = data[data['Platform'] == 'YouTube']"
   ]
  },
  {
   "cell_type": "code",
   "execution_count": 10,
   "metadata": {},
   "outputs": [],
   "source": [
    "Instagram_engagement = Instagram['Engagement'].mean()\n",
    "TikTok_engagement = TikTok['Engagement'].mean()\n",
    "Facebook_engagement = Facebook['Engagement'].mean()\n",
    "YouTube_engagement = YouTube['Engagement'].mean()"
   ]
  },
  {
   "cell_type": "code",
   "execution_count": 13,
   "metadata": {},
   "outputs": [
    {
     "name": "stdout",
     "output_type": "stream",
     "text": [
      "Engagements Score\n",
      "Youtube : 4866.36\n",
      "Instagram : 5090.83984375\n",
      "Facebook : 5228.276018099547\n",
      "TikTok : 4841.996336996337\n"
     ]
    }
   ],
   "source": [
    "print(\"Engagements Score\")\n",
    "print(\"Youtube :\" ,YouTube_engagement)\n",
    "print(\"Instagram :\" ,Instagram_engagement)\n",
    "print(\"Facebook :\" ,Facebook_engagement)\n",
    "print(\"TikTok :\" , TikTok_engagement)"
   ]
  },
  {
   "cell_type": "code",
   "execution_count": 17,
   "metadata": {},
   "outputs": [],
   "source": [
    "Instagram_into_dept = Instagram['Debt'].sum()\n",
    "TikTok_into_dept = TikTok['Debt'].sum()\n",
    "Facebook_into_dept = Facebook['Debt'].sum()\n",
    "YouTube_into_dept = YouTube['Debt'].sum()"
   ]
  },
  {
   "cell_type": "code",
   "execution_count": 18,
   "metadata": {},
   "outputs": [
    {
     "name": "stdout",
     "output_type": "stream",
     "text": [
      "Nombre d'endettés par reseaux\n",
      "Youtube : 158\n",
      "Instagram : 151\n",
      "Facebook : 131\n",
      "TikTok : 159\n"
     ]
    }
   ],
   "source": [
    "print(\"Nombre d'endettés par reseaux\")\n",
    "print(\"Youtube :\" ,YouTube_into_dept)\n",
    "print(\"Instagram :\" ,Instagram_into_dept)\n",
    "print(\"Facebook :\" ,Facebook_into_dept)\n",
    "print(\"TikTok :\" , TikTok_into_dept)"
   ]
  },
  {
   "cell_type": "code",
   "execution_count": 22,
   "metadata": {},
   "outputs": [
    {
     "name": "stdout",
     "output_type": "stream",
     "text": [
      "Moyennes d'âges par reseaux\n",
      "Youtube : 40.768\n",
      "Instagram : 41.40625\n",
      "Facebook : 40.34841628959276\n",
      "TikTok : 41.30769230769231\n"
     ]
    }
   ],
   "source": [
    "Instagram_age_avg = Instagram['Age'].mean()\n",
    "TikTok_age_avg = TikTok['Age'].mean() \n",
    "Facebook_age_avg = Facebook['Age'].mean() \n",
    "Youtube_age_avg = YouTube['Age'].mean()  \n",
    "\n",
    "print(\"Moyennes d'âges par reseaux\")\n",
    "print(\"Youtube :\" ,Youtube_age_avg)\n",
    "print(\"Instagram :\" ,Instagram_age_avg)\n",
    "print(\"Facebook :\" ,Facebook_age_avg)\n",
    "print(\"TikTok :\" , TikTok_age_avg)"
   ]
  },
  {
   "cell_type": "code",
   "execution_count": 24,
   "metadata": {},
   "outputs": [
    {
     "name": "stdout",
     "output_type": "stream",
     "text": [
      "Distrubutions des genres par reseaux\n",
      "Youtube : Gender\n",
      "Male      129\n",
      "Female     75\n",
      "Other      46\n",
      "Name: count, dtype: int64\n",
      "Instagram : Gender\n",
      "Male      131\n",
      "Female     92\n",
      "Other      33\n",
      "Name: count, dtype: int64\n",
      "Facebook : Gender\n",
      "Male      115\n",
      "Female     72\n",
      "Other      34\n",
      "Name: count, dtype: int64\n",
      "TikTok : Gender\n",
      "Male      139\n",
      "Female     83\n",
      "Other      51\n",
      "Name: count, dtype: int64\n"
     ]
    }
   ],
   "source": [
    "Instagram_gender_distrubtion = Instagram['Gender'].value_counts()\n",
    "Facebook_gender_distrubtion = Facebook['Gender'].value_counts()\n",
    "TikTok_gender_distrubtion = TikTok['Gender'].value_counts()\n",
    "Youtube_gender_distrubtion = YouTube['Gender'].value_counts()\n",
    "\n",
    "print(\"Distrubutions des genres par reseaux\")\n",
    "print(\"Youtube :\" ,Youtube_gender_distrubtion)\n",
    "print(\"Instagram :\" ,Instagram_gender_distrubtion)\n",
    "print(\"Facebook :\" ,Facebook_gender_distrubtion)\n",
    "print(\"TikTok :\" , TikTok_gender_distrubtion)"
   ]
  },
  {
   "cell_type": "code",
   "execution_count": 25,
   "metadata": {},
   "outputs": [
    {
     "name": "stdout",
     "output_type": "stream",
     "text": [
      "Moyennes des scrolls par reseaux\n",
      "Youtube : 49.348\n",
      "Instagram : 52.23046875\n",
      "Facebook : 46.76923076923077\n",
      "TikTok : 50.29304029304029\n"
     ]
    }
   ],
   "source": [
    "Instagram_scroll_rate = Instagram['Scroll Rate'].mean()\n",
    "Facebook_scroll_rate = Facebook['Scroll Rate'].mean()\n",
    "TikTok_scroll_rate = TikTok['Scroll Rate'].mean()\n",
    "Youtube_scroll_rate = YouTube['Scroll Rate'].mean()\n",
    "\n",
    "print(\"Moyennes des scrolls par reseaux\")\n",
    "print(\"Youtube :\" ,Youtube_scroll_rate)\n",
    "print(\"Instagram :\" ,Instagram_scroll_rate)\n",
    "print(\"Facebook :\" ,Facebook_scroll_rate)\n",
    "print(\"TikTok :\" , TikTok_scroll_rate)"
   ]
  }
 ],
 "metadata": {
  "kernelspec": {
   "display_name": "Python 3",
   "language": "python",
   "name": "python3"
  },
  "language_info": {
   "codemirror_mode": {
    "name": "ipython",
    "version": 3
   },
   "file_extension": ".py",
   "mimetype": "text/x-python",
   "name": "python",
   "nbconvert_exporter": "python",
   "pygments_lexer": "ipython3",
   "version": "3.12.2"
  }
 },
 "nbformat": 4,
 "nbformat_minor": 2
}
